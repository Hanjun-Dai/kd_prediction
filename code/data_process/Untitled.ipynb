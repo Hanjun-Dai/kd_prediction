{
 "cells": [
  {
   "cell_type": "code",
   "execution_count": 1,
   "metadata": {
    "collapsed": true
   },
   "outputs": [],
   "source": [
    "import numpy as np\n",
    "import csv"
   ]
  },
  {
   "cell_type": "code",
   "execution_count": 13,
   "metadata": {},
   "outputs": [],
   "source": [
    "data_root = '../../data/FOXA2/'\n",
    "\n",
    "seqs = []\n",
    "labels = []\n",
    "with open('%s/FOXA2_HepG2_FOXA2_(SC-6554)_HudsonAlpha_AC.seq' % data_root, 'r') as f:\n",
    "    reader = csv.reader(f, delimiter='\\t')\n",
    "    next(reader)\n",
    "    for row in reader:\n",
    "        seqs.append(row[2])\n",
    "        labels.append(row[-1])\n",
    "\n",
    "with open('%s/FOXA2_HepG2_FOXA2_(SC-6554)_HudsonAlpha_B.seq' % data_root, 'r') as f:\n",
    "    reader = csv.reader(f, delimiter='\\t')\n",
    "    next(reader)\n",
    "    for row in reader:\n",
    "        seqs.append(row[2])\n",
    "        labels.append(row[-1])\n",
    "        \n",
    "with open('%s/train.txt' % data_root, 'w') as f:\n",
    "    f.write('%d\\n' % len(seqs))\n",
    "    for i in range(len(seqs)):\n",
    "        f.write('%s %s\\n' % (labels[i], seqs[i]))\n"
   ]
  }
 ],
 "metadata": {
  "kernelspec": {
   "display_name": "Python 3",
   "language": "python",
   "name": "python3"
  },
  "language_info": {
   "codemirror_mode": {
    "name": "ipython",
    "version": 3
   },
   "file_extension": ".py",
   "mimetype": "text/x-python",
   "name": "python",
   "nbconvert_exporter": "python",
   "pygments_lexer": "ipython3",
   "version": "3.6.1"
  }
 },
 "nbformat": 4,
 "nbformat_minor": 1
}
