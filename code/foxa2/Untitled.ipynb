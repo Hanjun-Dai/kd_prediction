{
 "cells": [
  {
   "cell_type": "code",
   "execution_count": 2,
   "metadata": {
    "collapsed": true
   },
   "outputs": [],
   "source": [
    "import csv\n",
    "\n",
    "for name in ['train.csv', 'test.csv']:\n",
    "    out_name = name.split('.')[0] + '.txt'\n",
    "    with open(out_name, 'w') as fout:\n",
    "        rows = []\n",
    "        with open(name, 'rb') as f:\n",
    "            reader = csv.reader(f)\n",
    "            for row in reader:\n",
    "                rows.append(row)\n",
    "        fout.write('%d\\n' % len(rows))\n",
    "        for row in rows:\n",
    "            fout.write('%s %s\\n' % (row[1], row[0]))"
   ]
  }
 ],
 "metadata": {
  "kernelspec": {
   "display_name": "Python 2",
   "language": "python",
   "name": "python2"
  },
  "language_info": {
   "codemirror_mode": {
    "name": "ipython",
    "version": 2
   },
   "file_extension": ".py",
   "mimetype": "text/x-python",
   "name": "python",
   "nbconvert_exporter": "python",
   "pygments_lexer": "ipython2",
   "version": "2.7.6"
  }
 },
 "nbformat": 4,
 "nbformat_minor": 0
}
