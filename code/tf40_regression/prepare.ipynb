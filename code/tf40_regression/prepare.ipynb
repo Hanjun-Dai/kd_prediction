{
 "cells": [
  {
   "cell_type": "code",
   "execution_count": null,
   "metadata": {
    "collapsed": true
   },
   "outputs": [],
   "source": [
    "def csv2tsv(data_folder, prefix, need_num):\n",
    "    raw_file = '%s/%s.csv' % (data_folder, prefix)\n",
    "    fin = open(raw_file, 'r')\n",
    "    lines = fin.readlines()\n",
    "    fin.close()\n",
    "    with open('%s/%s.txt' % (data_folder, prefix), 'w') as fout\n",
    "        if need_num:\n",
    "            fout.write('%d\\n' % len(lines))\n",
    "        for line in lines:\n",
    "            line = line.strip().split(',')\n",
    "            if need_num:\n",
    "                fout.write('%s %s\\n' % (line[1], line[0]))\n",
    "            else:\n",
    "                fout.write('%s\\n' % line[0])\n",
    "\n",
    "data_root = '../../data/DREAM5'\n",
    "\n",
    "for i in range(1, 67):\n",
    "    data_folder = '%s/TF_%d' % (data_root, i)\n",
    "    csv2tsv(data_folder, 'train', False)\n",
    "    csv2tsv(data_folder, 'test', False)\n",
    "    csv2tsv(data_folder, 'data', )"
   ]
  },
  {
   "cell_type": "code",
   "execution_count": 2,
   "metadata": {
    "collapsed": true
   },
   "outputs": [],
   "source": [
    "import random\n",
    "\n",
    "def output_idxes(data_folder, phase, fold, idxes):\n",
    "    with open('%s/%s-%d.txt' % (data_folder, phase, fold), 'w') as f:\n",
    "        for idx in idxes:\n",
    "            f.write('%d\\n' % idx)\n",
    "\n",
    "def tenfold_split(data_folder):\n",
    "    train_idx_file = '%s/train.csv' % data_folder\n",
    "    idxes = []\n",
    "    with open(train_idx_file, 'r') as f:\n",
    "        for line in f:\n",
    "            line = line.split(',')\n",
    "            idxes.append(int(line[0].strip()))\n",
    "    random.shuffle(idxes)\n",
    "    num = len(idxes) / 10\n",
    "    for fold in range(10):\n",
    "        st = fold * num\n",
    "        train1 = idxes[0 : st - 1]\n",
    "        if fold == 9:\n",
    "            test_idx = idxes[st : ]\n",
    "            train2 = []\n",
    "        else:\n",
    "            test_idx = idxes[st : st + num]\n",
    "            train2 = idxes[st + num : ]\n",
    "        \n",
    "        train_idx = train1 + train2\n",
    "        output_idxes(data_folder, 'train', fold, train_idx)\n",
    "        output_idxes(data_folder, 'test', fold, test_idx)\n",
    "        \n",
    "data_root = '../../data/DREAM5'\n",
    "\n",
    "for i in range(1, 67):\n",
    "    data_folder = '%s/TF_%d' % (data_root, i)\n",
    "    tenfold_split(data_folder)"
   ]
  }
 ],
 "metadata": {
  "kernelspec": {
   "display_name": "Python 2",
   "language": "python",
   "name": "python2"
  },
  "language_info": {
   "codemirror_mode": {
    "name": "ipython",
    "version": 2
   },
   "file_extension": ".py",
   "mimetype": "text/x-python",
   "name": "python",
   "nbconvert_exporter": "python",
   "pygments_lexer": "ipython2",
   "version": "2.7.6"
  }
 },
 "nbformat": 4,
 "nbformat_minor": 0
}
